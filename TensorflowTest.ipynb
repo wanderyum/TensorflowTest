{
 "cells": [
  {
   "cell_type": "markdown",
   "metadata": {},
   "source": [
    "# Tensorflow Test"
   ]
  },
  {
   "cell_type": "markdown",
   "metadata": {},
   "source": [
    "## 变量共享\n",
    "Tensorflow通过`tensorflow.variable_scope`和`tesorflow.get_variable`实现。\n",
    "\n",
    "``` python\n",
    "tf.get_variable(name,\n",
    "    shape=None,\n",
    "    dtype=None,\n",
    "    initializer=None,\n",
    "    regularizer=None,\n",
    "    trainable=True,\n",
    "    collections=None,\n",
    "    caching_device=None,\n",
    "    partitioner=None,\n",
    "    validate_shape=True,\n",
    "    use_resource=None,\n",
    "    custom_getter=None,\n",
    "    constraint=None\n",
    ")\n",
    "```\n",
    "**共享条件: 变量的scope相同。**"
   ]
  },
  {
   "cell_type": "code",
   "execution_count": 1,
   "metadata": {},
   "outputs": [
    {
     "name": "stdout",
     "output_type": "stream",
     "text": [
      "<tf.Variable 'v_scope/w:0' shape=(3, 4) dtype=float32_ref>\n",
      "<tf.Variable 'v_scope/w:0' shape=(3, 4) dtype=float32_ref>\n",
      "True\n"
     ]
    }
   ],
   "source": [
    "import tensorflow as tf\n",
    "\n",
    "with tf.variable_scope('v_scope', reuse=False) as scope1:\n",
    "    W1 = tf.get_variable('w', shape=[3,4], initializer=tf.random_normal_initializer())\n",
    "    \n",
    "with tf.variable_scope('v_scope', reuse=True) as scope2:\n",
    "    W2 = tf.get_variable('w')\n",
    "\n",
    "print(W1)\n",
    "print(W2)\n",
    "print(W1 is W2)"
   ]
  },
  {
   "cell_type": "markdown",
   "metadata": {},
   "source": [
    "## 激活函数Softplus\n",
    "$Softplus(x)=log(1+e^{x})$"
   ]
  },
  {
   "cell_type": "code",
   "execution_count": 3,
   "metadata": {},
   "outputs": [
    {
     "data": {
      "image/png": "[encoded data removed]",
      "text/plain": [
       "<Figure size 864x576 with 1 Axes>"
      ]
     },
     "metadata": {},
     "output_type": "display_data"
    }
   ],
   "source": [
    "import numpy as np\n",
    "import matplotlib.pyplot as plt\n",
    "\n",
    "x = np.linspace(-10, 10, 201)\n",
    "y = np.log(1+np.power(np.e, x))\n",
    "\n",
    "plt.figure(figsize=(12,8))\n",
    "plt.plot(x,y)\n",
    "plt.show()"
   ]
  },
  {
   "cell_type": "markdown",
   "metadata": {},
   "source": [
    "### [tf.reshape](https://www.tensorflow.org/api_docs/python/tf/reshape)\n",
    "``` python\n",
    "tf.reshape(\n",
    "    tensor,\n",
    "    shape,\n",
    "    name=None\n",
    ")\n",
    "```"
   ]
  },
  {
   "cell_type": "code",
   "execution_count": 4,
   "metadata": {},
   "outputs": [
    {
     "name": "stdout",
     "output_type": "stream",
     "text": [
      "Tensor(\"Reshape:0\", shape=(3, 3), dtype=int32)\n",
      "(3, 3)\n",
      "[[1 2 3]\n",
      " [4 5 6]\n",
      " [7 8 9]]\n"
     ]
    }
   ],
   "source": [
    "# tensor 't' is [1, 2, 3, 4, 5, 6, 7, 8, 9]\n",
    "t = [1, 2, 3, 4, 5, 6, 7, 8, 9]\n",
    "# tensor 't' has shape [9]\n",
    "print(tf.reshape(t, [3, 3]))\n",
    "with tf.Session() as sess:\n",
    "    a = tf.reshape(t, [3, 3])\n",
    "    print(a.shape)\n",
    "    print(a.eval())"
   ]
  },
  {
   "cell_type": "markdown",
   "metadata": {},
   "source": [
    "### [tf.expand_dims](https://www.tensorflow.org/api_docs/python/tf/expand_dims)\n",
    "``` python\n",
    "tf.expand_dims(\n",
    "    input,\n",
    "    axis=None,\n",
    "    name=None,\n",
    "    dim=None\n",
    ")\n",
    "```"
   ]
  },
  {
   "cell_type": "code",
   "execution_count": 16,
   "metadata": {},
   "outputs": [
    {
     "name": "stdout",
     "output_type": "stream",
     "text": [
      "Tensor(\"Shape_30:0\", shape=(3,), dtype=int32)\n",
      "(1, 2, 3, 5)\n",
      "(2, 3, 1, 5)\n",
      "(2, 3, 5, 1)\n"
     ]
    }
   ],
   "source": [
    "import numpy as np\n",
    "t = np.ones([2, 3, 5])\n",
    "print(tf.shape(t))\n",
    "with tf.Session() as sess:\n",
    "    a = tf.expand_dims(t, 0)  # [1, 2, 3, 5]\n",
    "    print(a.shape)\n",
    "    #print(a.eval())\n",
    "    b = tf.expand_dims(t, 2)  # [2, 3, 1, 5]\n",
    "    print(b.shape)\n",
    "    c = tf.expand_dims(t, 3)  # [2, 3, 5, 1]\n",
    "    print(c.shape)\n",
    "    "
   ]
  },
  {
   "cell_type": "markdown",
   "metadata": {},
   "source": [
    "### [tf.transpose](https://www.tensorflow.org/api_docs/python/tf/transpose)\n",
    "``` python\n",
    "tf.transpose(\n",
    "    a,\n",
    "    perm=None,\n",
    "    name='transpose',\n",
    "    conjugate=False\n",
    ")\n",
    "```"
   ]
  },
  {
   "cell_type": "code",
   "execution_count": 14,
   "metadata": {},
   "outputs": [
    {
     "name": "stdout",
     "output_type": "stream",
     "text": [
      "[[[ 1  7]\n",
      "  [ 4 10]]\n",
      "\n",
      " [[ 2  8]\n",
      "  [ 5 11]]\n",
      "\n",
      " [[ 3  9]\n",
      "  [ 6 12]]]\n",
      "[[[ 1  2  3]\n",
      "  [ 4  5  6]]\n",
      "\n",
      " [[ 7  8  9]\n",
      "  [10 11 12]]]\n"
     ]
    }
   ],
   "source": [
    "x = tf.constant([[[ 1,  2,  3],\n",
    "                  [ 4,  5,  6]],\n",
    "                 [[ 7,  8,  9],\n",
    "                  [10, 11, 12]]])\n",
    "with tf.Session() as sess:\n",
    "    t = tf.transpose(x, perm=[2,1,0])\n",
    "    t1 = tf.transpose(x, perm=[0,1,2])\n",
    "    print(sess.run(t))\n",
    "    print(sess.run(t1))"
   ]
  },
  {
   "cell_type": "markdown",
   "metadata": {},
   "source": [
    "### [tf.train.AdamOptimizer](https://www.tensorflow.org/api_docs/python/tf/train/AdamOptimizer)\n",
    "方法:\n",
    "``` python\n",
    "__init__(\n",
    "    learning_rate=0.001,\n",
    "    beta1=0.9,\n",
    "    beta2=0.999,\n",
    "    epsilon=1e-08,\n",
    "    use_locking=False,\n",
    "    name='Adam'\n",
    ")\n",
    "```\n",
    "\n",
    "``` python\n",
    "minimize(\n",
    "    loss,\n",
    "    global_step=None,\n",
    "    var_list=None,\n",
    "    gate_gradients=GATE_OP,\n",
    "    aggregation_method=None,\n",
    "    colocate_gradients_with_ops=False,\n",
    "    name=None,\n",
    "    grad_loss=None\n",
    ")\n",
    "```\n"
   ]
  },
  {
   "cell_type": "code",
   "execution_count": 15,
   "metadata": {},
   "outputs": [
    {
     "name": "stdout",
     "output_type": "stream",
     "text": [
      "0.107177\n",
      "1\n",
      "0.11487\n",
      "2\n",
      "0.123114\n",
      "3\n",
      "0.131951\n",
      "4\n",
      "0.141421\n",
      "5\n",
      "0.151572\n",
      "6\n",
      "0.16245\n",
      "7\n",
      "0.17411\n",
      "8\n",
      "0.186607\n",
      "9\n",
      "0.2\n",
      "10\n"
     ]
    }
   ],
   "source": [
    "import numpy as np\n",
    " \n",
    "x = tf.placeholder(tf.float32, shape=[None, 1], name='x')\n",
    "y = tf.placeholder(tf.float32, shape=[None, 1], name='y')\n",
    "w = tf.Variable(tf.constant(0.0))\n",
    " \n",
    "global_steps = tf.Variable(0, trainable=False)\n",
    "\n",
    "learning_rate = tf.train.exponential_decay(0.1, global_steps, 10, 2, staircase=False)\n",
    "loss = tf.pow(w*x-y, 2)\n",
    "\n",
    "train_step = tf.train.GradientDescentOptimizer(learning_rate).minimize(loss,global_step=global_steps)\n",
    "\n",
    "with tf.Session() as sess:\n",
    "    sess.run(tf.global_variables_initializer())\n",
    "    for i in range(10):\n",
    "        sess.run(train_step, feed_dict={x:np.linspace(1,2,10).reshape([10,1]),\n",
    "            y:np.linspace(1,2,10).reshape([10,1])})\n",
    "        print(sess.run(learning_rate))\n",
    "        print(sess.run(global_steps))"
   ]
  },
  {
   "cell_type": "markdown",
   "metadata": {},
   "source": [
    "### [tf.reduce_mean](https://www.tensorflow.org/api_docs/python/tf/reduce_mean)\n",
    "计算平均值:\n",
    "``` python\n",
    "tf.reduce_mean(\n",
    "    input_tensor,\n",
    "    axis=None,\n",
    "    keepdims=None,\n",
    "    name=None,\n",
    "    reduction_indices=None,\n",
    "    keep_dims=None\n",
    ")\n",
    "```"
   ]
  },
  {
   "cell_type": "code",
   "execution_count": 16,
   "metadata": {},
   "outputs": [
    {
     "name": "stdout",
     "output_type": "stream",
     "text": [
      "1.5\n",
      "[ 1.5  1.5]\n",
      "[ 1.  2.]\n"
     ]
    }
   ],
   "source": [
    "x = tf.constant([[1., 1.], [2., 2.]])\n",
    "\n",
    "with tf.Session() as sess:\n",
    "    print(sess.run(tf.reduce_mean(x)))\n",
    "    print(sess.run(tf.reduce_mean(x, axis=0)))\n",
    "    print(sess.run(tf.reduce_mean(x, axis=1)))"
   ]
  },
  {
   "cell_type": "markdown",
   "metadata": {},
   "source": [
    "### `tf.app.run()`和`tf.app.flags.FLAGS`\n"
   ]
  },
  {
   "cell_type": "code",
   "execution_count": 1,
   "metadata": {},
   "outputs": [
    {
     "name": "stdout",
     "output_type": "stream",
     "text": [
      "string:  train\n",
      "learning_rate:  0.001\n",
      "flag:  True\n"
     ]
    }
   ],
   "source": [
    "import tensorflow as tf\n",
    "\n",
    "flags = tf.app.flags\n",
    "\n",
    "flags.DEFINE_string('string', 'train', 'This is a string')\n",
    "flags.DEFINE_float('learning_rate', 0.001, 'This is the rate in training')\n",
    "flags.DEFINE_boolean('flag', True, 'This is a flag')\n",
    "FLAGS = flags.FLAGS\n",
    "\n",
    "def main(unuse_args):\n",
    "    print('string: ', FLAGS.string)\n",
    "    print('learning_rate: ', FLAGS.learning_rate)\n",
    "    print('flag: ', flags.FLAGS.flag)\n",
    "    \n",
    "#tf.app.run()\n",
    "main(1)"
   ]
  },
  {
   "cell_type": "markdown",
   "metadata": {},
   "source": [
    "### [tf.nn.conv2d](https://www.tensorflow.org/api_docs/python/tf/nn/conv2d)\n",
    "\n",
    "``` python\n",
    "tf.nn.conv2d(\n",
    "    input,\n",
    "    filter,\n",
    "    strides,\n",
    "    padding,\n",
    "    use_cudnn_on_gpu=True,\n",
    "    data_format='NHWC',\n",
    "    dilations=[1, 1, 1, 1],\n",
    "    name=None\n",
    ")\n",
    "```"
   ]
  },
  {
   "cell_type": "code",
   "execution_count": 2,
   "metadata": {},
   "outputs": [
    {
     "name": "stdout",
     "output_type": "stream",
     "text": [
      "SAME padding:\n",
      " [[ 14.  18.  22.  12.]\n",
      " [ 30.  34.  38.  20.]\n",
      " [ 46.  50.  54.  28.]\n",
      " [ 27.  29.  31.  16.]]\n",
      "Shape =  (1, 4, 4, 2)\n",
      "VALID padding:\n",
      " [[ 14.  18.  22.]\n",
      " [ 30.  34.  38.]\n",
      " [ 46.  50.  54.]]\n",
      "Shape =  (1, 3, 3, 2)\n"
     ]
    }
   ],
   "source": [
    "import numpy as np\n",
    "\n",
    "i = np.array([[1,2,3,4],[5,6,7,8],[9,10,11,12],[13,14,15,16]]).reshape(1, 4, 4, 1)\n",
    "#print(_input)\n",
    "#print(_input.shape)\n",
    "f= np.ones((2, 2, 1, 2))\n",
    "f[0,1,0,1] = 0\n",
    "f[1,0,0,1] = 0\n",
    "#print(_filter[:,:,0,1])\n",
    "#print(_filter.shape)\n",
    "_input = tf.placeholder(tf.float32, [1,4,4,1])        # [batch_size, height, width, channels]\n",
    "_filter = tf.placeholder(tf.float32, [2,2,1,2])       # [filter_height, filter_width, in_channels, out_channels]\n",
    "\n",
    "conv1 = tf.nn.conv2d(_input, _filter,strides=[1,1,1,1], padding='SAME')\n",
    "conv2 = tf.nn.conv2d(_input, _filter,strides=[1,1,1,1], padding='VALID')\n",
    "\n",
    "with tf.Session() as sess:\n",
    "    c1 = sess.run(conv1,{_input: i, _filter: f})\n",
    "    print('SAME padding:\\n {}'.format(c1[0,:,:,0]))\n",
    "    print('Shape = ',c1.shape)\n",
    "    c2 = sess.run(conv2,{_input: i, _filter: f})\n",
    "    print('VALID padding:\\n {}'.format(c2[0,:,:,0]))\n",
    "    print('Shape = ',c2.shape)"
   ]
  },
  {
   "cell_type": "markdown",
   "metadata": {},
   "source": [
    "### [tf.nn.conv2d_transpose](https://www.tensorflow.org/api_docs/python/tf/nn/conv2d_transpose)\n",
    "\n",
    "``` python\n",
    "tf.nn.conv2d_transpose(\n",
    "    value,\n",
    "    filter,\n",
    "    output_shape,\n",
    "    strides,\n",
    "    padding='SAME',\n",
    "    data_format='NHWC',\n",
    "    name=None\n",
    ")\n",
    "```"
   ]
  },
  {
   "cell_type": "code",
   "execution_count": 4,
   "metadata": {},
   "outputs": [
    {
     "name": "stdout",
     "output_type": "stream",
     "text": [
      "SAME padding:\n",
      " [[ 1.  1.  2.  1.  2.  1.]\n",
      " [ 1.  1.  2.  1.  2.  1.]\n",
      " [ 2.  2.  4.  2.  4.  2.]\n",
      " [ 1.  1.  2.  1.  2.  1.]\n",
      " [ 2.  2.  4.  2.  4.  2.]\n",
      " [ 1.  1.  2.  1.  2.  1.]]\n",
      "Shape =  (1, 6, 6, 2)\n"
     ]
    }
   ],
   "source": [
    "ipt = tf.constant(1.0, shape=[1, 3, 3, 1])        # [batch_size, height, width, channels]\n",
    "f = tf.constant(1.0, shape=[3, 3, 2, 1])        # [filter_height, filter_width, out_channels, in_channels]\n",
    "\n",
    "deconv = tf.nn.conv2d_transpose(ipt, f, output_shape=[1, 6, 6, 2], strides=[1,2,2,1], padding='SAME')\n",
    "\n",
    "with tf.Session() as sess:\n",
    "    c1 = sess.run(deconv)\n",
    "    print('SAME padding:\\n {}'.format(c1[0,:,:,0]))\n",
    "    print('Shape = ',c1.shape)\n",
    "    "
   ]
  },
  {
   "cell_type": "markdown",
   "metadata": {},
   "source": [
    "### [tf.layers.batch_normalization](https://www.tensorflow.org/api_docs/python/tf/layers/batch_normalization)\n",
    "\n",
    "``` python\n",
    "tf.layers.batch_normalization(\n",
    "    inputs,\n",
    "    axis=-1,\n",
    "    momentum=0.99,\n",
    "    epsilon=0.001,\n",
    "    center=True,\n",
    "    scale=True,\n",
    "    beta_initializer=tf.zeros_initializer(),\n",
    "    gamma_initializer=tf.ones_initializer(),\n",
    "    moving_mean_initializer=tf.zeros_initializer(),\n",
    "    moving_variance_initializer=tf.ones_initializer(),\n",
    "    beta_regularizer=None,\n",
    "    gamma_regularizer=None,\n",
    "    beta_constraint=None,\n",
    "    gamma_constraint=None,\n",
    "    training=False,\n",
    "    trainable=True,\n",
    "    name=None,\n",
    "    reuse=None,\n",
    "    renorm=False,\n",
    "    renorm_clipping=None,\n",
    "    renorm_momentum=0.99,\n",
    "    fused=None,\n",
    "    virtual_batch_size=None,\n",
    "    adjustment=None\n",
    ")\n",
    "```"
   ]
  },
  {
   "cell_type": "markdown",
   "metadata": {},
   "source": [
    "### [tf.nn.bias_add](https://www.tensorflow.org/api_docs/python/tf/nn/bias_add)\n",
    "\n",
    "``` python\n",
    "tf.nn.bias_add(\n",
    "    value,\n",
    "    bias,\n",
    "    data_format=None,\n",
    "    name=None\n",
    ")\n",
    "```"
   ]
  },
  {
   "cell_type": "markdown",
   "metadata": {},
   "source": [
    "### [tf.summary.histogram](https://www.tensorflow.org/api_docs/python/tf/summary/histogram)\n",
    "\n",
    "``` python\n",
    "tf.summary.histogram(\n",
    "    name,\n",
    "    values,\n",
    "    collections=None,\n",
    "    family=None\n",
    ")\n",
    "```"
   ]
  },
  {
   "cell_type": "code",
   "execution_count": null,
   "metadata": {},
   "outputs": [],
   "source": []
  }
 ],
 "metadata": {
  "kernelspec": {
   "display_name": "Python 3",
   "language": "python",
   "name": "python3"
  },
  "language_info": {
   "codemirror_mode": {
    "name": "ipython",
    "version": 3
   },
   "file_extension": ".py",
   "mimetype": "text/x-python",
   "name": "python",
   "nbconvert_exporter": "python",
   "pygments_lexer": "ipython3",
   "version": "3.5.2"
  }
 },
 "nbformat": 4,
 "nbformat_minor": 2
}
