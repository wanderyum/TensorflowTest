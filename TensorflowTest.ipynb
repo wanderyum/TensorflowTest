{
 "cells": [
  {
   "cell_type": "markdown",
   "metadata": {},
   "source": [
    "# Tensorflow Test"
   ]
  },
  {
   "cell_type": "markdown",
   "metadata": {},
   "source": [
    "## 变量共享\n",
    "Tensorflow通过`tensorflow.variable_scope`和`tesorflow.get_variable`实现。\n",
    "\n",
    "``` python\n",
    "tf.get_variable(name,\n",
    "    shape=None,\n",
    "    dtype=None,\n",
    "    initializer=None,\n",
    "    regularizer=None,\n",
    "    trainable=True,\n",
    "    collections=None,\n",
    "    caching_device=None,\n",
    "    partitioner=None,\n",
    "    validate_shape=True,\n",
    "    use_resource=None,\n",
    "    custom_getter=None,\n",
    "    constraint=None\n",
    ")\n",
    "```\n",
    "**共享条件: 变量的scope相同。**"
   ]
  },
  {
   "cell_type": "code",
   "execution_count": 1,
   "metadata": {},
   "outputs": [
    {
     "name": "stdout",
     "output_type": "stream",
     "text": [
      "<tf.Variable 'v_scope/w:0' shape=(3, 4) dtype=float32_ref>\n",
      "<tf.Variable 'v_scope/w:0' shape=(3, 4) dtype=float32_ref>\n",
      "True\n"
     ]
    }
   ],
   "source": [
    "import tensorflow as tf\n",
    "\n",
    "with tf.variable_scope('v_scope', reuse=False) as scope1:\n",
    "    W1 = tf.get_variable('w', shape=[3,4], initializer=tf.random_normal_initializer())\n",
    "    \n",
    "with tf.variable_scope('v_scope', reuse=True) as scope2:\n",
    "    W2 = tf.get_variable('w')\n",
    "\n",
    "print(W1)\n",
    "print(W2)\n",
    "print(W1 is W2)"
   ]
  },
  {
   "cell_type": "markdown",
   "metadata": {},
   "source": [
    "## 激活函数Softplus\n",
    "$Softplus(x)=log(1+e^{x})$"
   ]
  },
  {
   "cell_type": "code",
   "execution_count": 2,
   "metadata": {},
   "outputs": [
    {
     "data": {
      "image/png": "[encoded data removed]",
      "text/plain": [
       "<matplotlib.figure.Figure at 0x7f7162da9358>"
      ]
     },
     "metadata": {},
     "output_type": "display_data"
    }
   ],
   "source": [
    "import numpy as np\n",
    "import matplotlib.pyplot as plt\n",
    "\n",
    "x = np.linspace(-10, 10, 201)\n",
    "y = np.log(1+np.power(np.e, x))\n",
    "\n",
    "plt.figure(figsize=(12,8))\n",
    "plt.plot(x,y)\n",
    "plt.show()"
   ]
  },
  {
   "cell_type": "markdown",
   "metadata": {},
   "source": [
    "### [tf.reshape](https://www.tensorflow.org/api_docs/python/tf/reshape)\n",
    "``` python\n",
    "tf.reshape(\n",
    "    tensor,\n",
    "    shape,\n",
    "    name=None\n",
    ")\n",
    "```"
   ]
  },
  {
   "cell_type": "code",
   "execution_count": 12,
   "metadata": {},
   "outputs": [
    {
     "name": "stdout",
     "output_type": "stream",
     "text": [
      "Tensor(\"Reshape_5:0\", shape=(3, 3), dtype=int32)\n",
      "Tensor(\"Shape_20:0\", shape=(2,), dtype=int32)\n",
      "(3, 3)\n",
      "[[1 2 3]\n",
      " [4 5 6]\n",
      " [7 8 9]]\n"
     ]
    }
   ],
   "source": [
    "# tensor 't' is [1, 2, 3, 4, 5, 6, 7, 8, 9]\n",
    "t = [1, 2, 3, 4, 5, 6, 7, 8, 9]\n",
    "# tensor 't' has shape [9]\n",
    "print(tf.reshape(t, [3, 3]))\n",
    "with tf.Session() as sess:\n",
    "    a = tf.reshape(t, [3, 3])\n",
    "    print(a.shape)\n",
    "    print(a.eval())"
   ]
  },
  {
   "cell_type": "markdown",
   "metadata": {},
   "source": [
    "### [tf.expand_dims](https://www.tensorflow.org/api_docs/python/tf/expand_dims)\n",
    "``` python\n",
    "tf.expand_dims(\n",
    "    input,\n",
    "    axis=None,\n",
    "    name=None,\n",
    "    dim=None\n",
    ")\n",
    "```"
   ]
  },
  {
   "cell_type": "code",
   "execution_count": 16,
   "metadata": {},
   "outputs": [
    {
     "name": "stdout",
     "output_type": "stream",
     "text": [
      "Tensor(\"Shape_30:0\", shape=(3,), dtype=int32)\n",
      "(1, 2, 3, 5)\n",
      "(2, 3, 1, 5)\n",
      "(2, 3, 5, 1)\n"
     ]
    }
   ],
   "source": [
    "import numpy as np\n",
    "t = np.ones([2, 3, 5])\n",
    "print(tf.shape(t))\n",
    "with tf.Session() as sess:\n",
    "    a = tf.expand_dims(t, 0)  # [1, 2, 3, 5]\n",
    "    print(a.shape)\n",
    "    #print(a.eval())\n",
    "    b = tf.expand_dims(t, 2)  # [2, 3, 1, 5]\n",
    "    print(b.shape)\n",
    "    c = tf.expand_dims(t, 3)  # [2, 3, 5, 1]\n",
    "    print(c.shape)\n",
    "    "
   ]
  },
  {
   "cell_type": "markdown",
   "metadata": {},
   "source": [
    "### [tf.transpose](https://www.tensorflow.org/api_docs/python/tf/transpose)\n"
   ]
  }
 ],
 "metadata": {
  "kernelspec": {
   "display_name": "Python 3",
   "language": "python",
   "name": "python3"
  },
  "language_info": {
   "codemirror_mode": {
    "name": "ipython",
    "version": 3
   },
   "file_extension": ".py",
   "mimetype": "text/x-python",
   "name": "python",
   "nbconvert_exporter": "python",
   "pygments_lexer": "ipython3",
   "version": "3.5.2"
  }
 },
 "nbformat": 4,
 "nbformat_minor": 2
}
