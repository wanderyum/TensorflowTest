{
 "cells": [
  {
   "cell_type": "markdown",
   "metadata": {},
   "source": [
    "# Tensorflow Test"
   ]
  },
  {
   "cell_type": "markdown",
   "metadata": {},
   "source": [
    "## 变量共享\n",
    "Tensorflow通过`tensorflow.variable_scope`和`tesorflow.get_variable`实现。\n",
    "\n",
    "``` python\n",
    "tf.get_variable(name,\n",
    "    shape=None,\n",
    "    dtype=None,\n",
    "    initializer=None,\n",
    "    regularizer=None,\n",
    "    trainable=True,\n",
    "    collections=None,\n",
    "    caching_device=None,\n",
    "    partitioner=None,\n",
    "    validate_shape=True,\n",
    "    use_resource=None,\n",
    "    custom_getter=None,\n",
    "    constraint=None\n",
    ")\n",
    "```"
   ]
  },
  {
   "cell_type": "code",
   "execution_count": 1,
   "metadata": {},
   "outputs": [
    {
     "name": "stdout",
     "output_type": "stream",
     "text": [
      "<tf.Variable 'v_scope/w:0' shape=(3, 4) dtype=float32_ref>\n",
      "<tf.Variable 'v_scope/w:0' shape=(3, 4) dtype=float32_ref>\n",
      "True\n"
     ]
    }
   ],
   "source": [
    "import tensorflow as tf\n",
    "\n",
    "with tf.variable_scope('v_scope', reuse=False) as scope1:\n",
    "    W1 = tf.get_variable('w', shape=[3,4], initializer=tf.random_normal_initializer())\n",
    "    \n",
    "with tf.variable_scope('v_scope', reuse=True) as scope2:\n",
    "    W2 = tf.get_variable('w')\n",
    "\n",
    "print(W1)\n",
    "print(W2)\n",
    "print(W1 is W2)"
   ]
  },
  {
   "cell_type": "code",
   "execution_count": null,
   "metadata": {},
   "outputs": [],
   "source": []
  }
 ],
 "metadata": {
  "kernelspec": {
   "display_name": "Python 3",
   "language": "python",
   "name": "python3"
  },
  "language_info": {
   "codemirror_mode": {
    "name": "ipython",
    "version": 3
   },
   "file_extension": ".py",
   "mimetype": "text/x-python",
   "name": "python",
   "nbconvert_exporter": "python",
   "pygments_lexer": "ipython3",
   "version": "3.5.2"
  }
 },
 "nbformat": 4,
 "nbformat_minor": 2
}
