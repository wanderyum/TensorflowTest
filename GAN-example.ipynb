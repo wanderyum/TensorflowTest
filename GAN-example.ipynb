{
 "cells": [
  {
   "cell_type": "markdown",
   "metadata": {},
   "source": [
    "# GAN 示例\n",
    "本示例由[AYLIEN/gan-intro](https://github.com/AYLIEN/gan-intro/blob/master/gan.py)简化而来。\n",
    "\n",
    "首先进行库导入和一些设置。"
   ]
  },
  {
   "cell_type": "code",
   "execution_count": 3,
   "metadata": {},
   "outputs": [],
   "source": [
    "import numpy as np\n",
    "import tensorflow as tf\n",
    "\n",
    "class parameters():\n",
    "    def __init__(self, batch_size=8, hidden_size=4, num_steps=5000, log_every=100):\n",
    "        self.batch_size = batch_size\n",
    "        self.hidden_size = hidden_size\n",
    "        self.num_steps = num_steps\n",
    "        self.log_every = log_every\n",
    "\n",
    "params = parameters()\n",
    "\n",
    "seed = 13\n",
    "np.random.seed(seed)\n",
    "tf.set_random_seed(seed)"
   ]
  },
  {
   "cell_type": "markdown",
   "metadata": {},
   "source": [
    "构建模型输入, \n",
    "- 待生成数据分布(正态分布)\n",
    "- Generator输入（均匀分布白噪声）"
   ]
  },
  {
   "cell_type": "code",
   "execution_count": 4,
   "metadata": {},
   "outputs": [],
   "source": [
    "def get_data(N=100, mu=4, sigma=0.5):\n",
    "    return np.random.normal(mu, sigma, N)\n",
    "\n",
    "def get_input(N=100, r=10):\n",
    "    return np.linspace(-r, r, N) + np.random.random(N)*2/10/N"
   ]
  },
  {
   "cell_type": "markdown",
   "metadata": {},
   "source": [
    "构建Generator、Discriminator:"
   ]
  },
  {
   "cell_type": "code",
   "execution_count": 5,
   "metadata": {},
   "outputs": [],
   "source": [
    "def linear(input, output_dim, scope=None, stddev=1.0):\n",
    "    norm = tf.random_normal_initializer(stddev=stddev)\n",
    "    const = tf.constant_initializer(0.0)\n",
    "    with tf.variable_scope(scope or 'linear'):\n",
    "        tf.get_variable('w', [input.get_shape()[1], output_dim], initializer=norm)\n",
    "        tf.get_variable('b', [output_dim], initializer=const)\n",
    "        return tf.matmul(input, w) + b\n",
    "\n",
    "def generator(input, h_dim):\n",
    "    h0 = tf.nn.softplus(linear(input, h_dim*2, 'g0'))\n",
    "    h1 = linear(h0, 1, 'g1')\n",
    "    return h1\n",
    "\n",
    "def discriminator(input, h_dim):\n",
    "    h0 = tf.nn.relu(linear(input, h_dim*2, scope='d0'))\n",
    "    h1 = tf.nn.relu(linear(h0, h_dim*2, scope='d1'))\n",
    "    h2 = tf.nn.relu(linear(h1, h_dim*2, scope='d2'))\n",
    "    h3 = tf.sigmoid(linear(h2, 1, scope='d3'))\n",
    "    return h3"
   ]
  },
  {
   "cell_type": "markdown",
   "metadata": {},
   "source": [
    "构建Optimizer:"
   ]
  },
  {
   "cell_type": "code",
   "execution_count": 6,
   "metadata": {},
   "outputs": [],
   "source": [
    "def optimizer(loss, var_list):\n",
    "    learning_rate = 0.001\n",
    "    optimizer = tf.train.AdamOptimizer(learning_rate).minimize(loss, var_list=var_list)\n",
    "    return optimizer\n",
    "\n",
    "def log(x):        # 防止零的情况\n",
    "    return tf.log(tf.maximum(x, 1e-7))"
   ]
  },
  {
   "cell_type": "markdown",
   "metadata": {},
   "source": [
    "构建GAN模型:"
   ]
  },
  {
   "cell_type": "code",
   "execution_count": 6,
   "metadata": {},
   "outputs": [],
   "source": [
    "class GAN(object):\n",
    "    def __init__(self, params):\n",
    "        # True data distribution\n",
    "        self.x = tf.placeholder(tf.float32, shape=(params.batch_size, 1))\n",
    "        \n",
    "        # Generator\n",
    "        with tf.variable_scope('G'):\n",
    "            self.z = tf.placeholder(tf.float32, shape=(params.batch_size, 1))\n",
    "            self.G = generator(self.z, params.hidden_size)\n",
    "        \n",
    "        # Discriminators\n",
    "        with tf.variable_scope('D'):\n",
    "            self.D1 = discriminator(self.x, params.hidden_size)\n",
    "        with tf.variable_scope('D', reuse=True):\n",
    "            self.D2 = discriminator(self.G, params.hidden_size)\n",
    "        \n",
    "        self.loss_g = tf.reduce_mean(-log(self.D2))\n",
    "        self.loss_d = tf.reduce_mean(-log(self.D1)-log(1-self.D2))\n",
    "        \n",
    "        vars = tf.trainable_variables()\n",
    "        self.g_vars = [v for v in vars if v.name.startswith('G/')]\n",
    "        self.d_vars = [v for v in vars if v.name.startswith('D/')]\n",
    "        \n",
    "        self.opt_g = optimizer(self.loss_g, self.g_vars)\n",
    "        self.opt_d = optimizer(self.loss_d, self.d_vars)"
   ]
  },
  {
   "cell_type": "markdown",
   "metadata": {},
   "source": [
    "训练函数:"
   ]
  },
  {
   "cell_type": "code",
   "execution_count": null,
   "metadata": {},
   "outputs": [],
   "source": [
    "def train(model):\n",
    "    with tf.Session() as sess:\n",
    "        tf.local_variables_initializer().run()\n",
    "        tf.global_variables_initializer().run()\n",
    "        \n",
    "        for step in range(params.num_steps+1):\n",
    "            # 更新Discriminator\n",
    "            x = get_data(params.batch_size)\n",
    "            z = get_input(params.batch_size)\n",
    "            loss_d, _ = sess.run([model.loss_d, model.opt_d], {\n",
    "                        model.x: np.reshape(x, (params.batch_size, 1)), \n",
    "                        model.z: np.reshape(z, (params.batch_size, 1))\n",
    "            })\n",
    "            \n",
    "            # 更新Generator"
   ]
  }
 ],
 "metadata": {
  "kernelspec": {
   "display_name": "Python 3",
   "language": "python",
   "name": "python3"
  },
  "language_info": {
   "codemirror_mode": {
    "name": "ipython",
    "version": 3
   },
   "file_extension": ".py",
   "mimetype": "text/x-python",
   "name": "python",
   "nbconvert_exporter": "python",
   "pygments_lexer": "ipython3",
   "version": "3.5.2"
  }
 },
 "nbformat": 4,
 "nbformat_minor": 2
}
