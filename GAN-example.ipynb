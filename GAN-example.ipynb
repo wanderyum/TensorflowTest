{
 "cells": [
  {
   "cell_type": "markdown",
   "metadata": {},
   "source": [
    "# GAN 示例\n",
    "本示例由[AYLIEN/gan-intro](https://github.com/AYLIEN/gan-intro/blob/master/gan.py)简化而来。\n",
    "\n",
    "首先进行库导入和一些设置。"
   ]
  },
  {
   "cell_type": "code",
   "execution_count": 1,
   "metadata": {},
   "outputs": [],
   "source": [
    "import numpy as np\n",
    "import tensorflow as tf\n",
    "\n",
    "class parameters():\n",
    "    def __init__(self, batch_size=8, hidden_size=4, num_steps=5000, log_every=100):\n",
    "        self.batch_size = batch_size\n",
    "        self.hidden_size = hidden_size\n",
    "        self.num_steps = num_steps\n",
    "        self.log_every = log_every\n",
    "\n",
    "params = parameters()\n",
    "\n",
    "seed = 13\n",
    "np.random.seed(seed)\n",
    "tf.set_random_seed(seed)"
   ]
  },
  {
   "cell_type": "markdown",
   "metadata": {},
   "source": [
    "构建模型输入, \n",
    "- 待生成数据分布(正态分布)\n",
    "- Generator输入（均匀分布白噪声）"
   ]
  },
  {
   "cell_type": "code",
   "execution_count": 4,
   "metadata": {},
   "outputs": [],
   "source": [
    "def get_data(N=100, mu=4, sigma=0.5):\n",
    "    return np.random.normal(mu, sigma, N)\n",
    "\n",
    "def get_input(N=100, r=10):\n",
    "    return np.linspace(-r, r, N) + np.random.random(N)*2/10/N"
   ]
  },
  {
   "cell_type": "markdown",
   "metadata": {},
   "source": [
    "构建Generator、Discriminator:"
   ]
  },
  {
   "cell_type": "code",
   "execution_count": null,
   "metadata": {},
   "outputs": [],
   "source": [
    "def linear(input, output_dim, scope=None, stddev=1.0):\n",
    "    norm = tf.random_normal_initializer(stddev=stddev)\n",
    "    const = tf.constant_initializer(0.0)\n",
    "    with tf.variable_scope(scope or 'linear'):\n",
    "        tf.get_variable('w', [input.get_shape()[1], output_dim], initializer=norm)\n",
    "        tf.get_variable('b', [output_dim], initializer=const)\n",
    "        return tf.matmul(input, w) + b\n",
    "\n",
    "def generator(input, h_dim):\n",
    "    h0 = tf.nn.softplus(linear(input, h_dim*2, 'g0'))\n",
    "    h1 = linear(h0, 1, 'g1')\n"
   ]
  }
 ],
 "metadata": {
  "kernelspec": {
   "display_name": "Python 3",
   "language": "python",
   "name": "python3"
  },
  "language_info": {
   "codemirror_mode": {
    "name": "ipython",
    "version": 3
   },
   "file_extension": ".py",
   "mimetype": "text/x-python",
   "name": "python",
   "nbconvert_exporter": "python",
   "pygments_lexer": "ipython3",
   "version": "3.6.5"
  }
 },
 "nbformat": 4,
 "nbformat_minor": 2
}
